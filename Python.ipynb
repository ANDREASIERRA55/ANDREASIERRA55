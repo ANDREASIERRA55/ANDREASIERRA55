{
  "nbformat": 4,
  "nbformat_minor": 0,
  "metadata": {
    "colab": {
      "provenance": [],
      "authorship_tag": "ABX9TyOd1+gt/B2KpydqV7gAG6Xa",
      "include_colab_link": true
    },
    "kernelspec": {
      "name": "python3",
      "display_name": "Python 3"
    },
    "language_info": {
      "name": "python"
    }
  },
  "cells": [
    {
      "cell_type": "markdown",
      "metadata": {
        "id": "view-in-github",
        "colab_type": "text"
      },
      "source": [
        "<a href=\"https://colab.research.google.com/github/ANDREASIERRA55/ANDREASIERRA55/blob/main/Python.ipynb\" target=\"_parent\"><img src=\"https://colab.research.google.com/assets/colab-badge.svg\" alt=\"Open In Colab\"/></a>"
      ]
    },
    {
      "cell_type": "code",
      "execution_count": null,
      "metadata": {
        "id": "M40wllHr-O2o",
        "colab": {
          "base_uri": "https://localhost:8080/"
        },
        "outputId": "cfc2f8fd-b1bd-4177-9a8e-971fbc221af4"
      },
      "outputs": [
        {
          "output_type": "stream",
          "name": "stdout",
          "text": [
            "Ingrese la medida del lado del cuadro:5\n",
            "La superficie del cuadro es:\n",
            "25\n"
          ]
        }
      ],
      "source": [
        "lado = input(\"Ingrese la medida del lado del cuadro:\")\n",
        "lado = int(lado)\n",
        "superficie = lado * lado\n",
        "print(\"La superficie del cuadro es:\")\n",
        "print(superficie)\n"
      ]
    },
    {
      "cell_type": "code",
      "source": [
        "num1 = int(input(\"Ingrese el primer número:\"))\n",
        "num2 = int(input(\"Ingrese el segundo número:\"))\n",
        "suma = num1 + num2\n",
        "producto = num1 * num2\n",
        "print(\"La suma de los números es:\")\n",
        "print(suma)\n",
        "print(\"El producto de los dos valores es:\")\n",
        "print(producto)"
      ],
      "metadata": {
        "colab": {
          "base_uri": "https://localhost:8080/"
        },
        "id": "vTPe-1t7Iu9Z",
        "outputId": "b8d4fdda-e987-43b0-df1b-92131b75b358"
      },
      "execution_count": null,
      "outputs": [
        {
          "output_type": "stream",
          "name": "stdout",
          "text": [
            "Ingrese el primer número:2\n",
            "Ingrese el segundo número:3\n",
            "La suma de los números es:\n",
            "5\n",
            "El producto de los dos valores es:\n",
            "6\n"
          ]
        }
      ]
    },
    {
      "cell_type": "code",
      "source": [
        "precio = int(input(\"Ingrese el precio del producto:\"))\n",
        "cantidad = int(input(\"Ingrese la cantidad de productos:\"))\n",
        "importe = precio*cantidad\n",
        "print(\"El importe a pagar es:\")\n",
        "print(importe)"
      ],
      "metadata": {
        "colab": {
          "base_uri": "https://localhost:8080/"
        },
        "id": "15rvt4S8JyM5",
        "outputId": "ff77c68a-ec59-4be9-c999-8312e57f6bc6"
      },
      "execution_count": null,
      "outputs": [
        {
          "output_type": "stream",
          "name": "stdout",
          "text": [
            "Ingrese el precio del producto:10\n",
            "Ingrese la cantidad de productos:2\n",
            "El importe a pagar es:\n",
            "20\n"
          ]
        }
      ]
    },
    {
      "cell_type": "markdown",
      "source": [
        "# Problemas propuestos\n",
        "### 1. Realizar la carga del lado de un cuadrado, mostrar por pantalla el perímetro del mismo (El perímetro de un cuadrado se calcula multiplicando el valor del lado por cuatro)"
      ],
      "metadata": {
        "id": "oVl-1BLKK88E"
      }
    },
    {
      "cell_type": "code",
      "source": [
        "lado = int(input(\"Ingrese la medida del lado del cuadrado:\"))\n",
        "perimetro = lado * 4\n",
        "print(\"El perímetro del cuadrado es:\")\n",
        "print(perimetro)"
      ],
      "metadata": {
        "colab": {
          "base_uri": "https://localhost:8080/"
        },
        "id": "O3ec2nqJLN9c",
        "outputId": "fe81584c-0d5e-4bd5-e913-5ad2bc575fe2"
      },
      "execution_count": null,
      "outputs": [
        {
          "output_type": "stream",
          "name": "stdout",
          "text": [
            "Ingrese la medida del lado del cuadrado:2\n",
            "El perímetro del cuadrado es:\n",
            "8\n"
          ]
        }
      ]
    },
    {
      "cell_type": "markdown",
      "source": [
        "###2. Escribir un programa en el cual se ingresen cuatro números, calcular e informar la suma de los dos primeros y el producto del tercero y el cuarto."
      ],
      "metadata": {
        "id": "l6P0W0fCLg05"
      }
    },
    {
      "cell_type": "code",
      "source": [
        "num1 = int(input(\"Ingrese primer valor\"))\n",
        "num2 = int(input(\"ingrese segundo valor\"))\n",
        "num3 = int(input(\"ingrese tercer valor\"))\n",
        "num4 = int(input(\"ingrese cuarto valor\"))\n",
        "suma = num1 + num2\n",
        "producto = num3 * num4\n",
        "print(\"La suma de los dos primeros valores es:\")\n",
        "print(suma)\n",
        "print(\"El producto del tercero y el cuarto valor es:\")\n",
        "print(producto)"
      ],
      "metadata": {
        "id": "CSYlPsXcLqRA",
        "colab": {
          "base_uri": "https://localhost:8080/"
        },
        "outputId": "74148c83-6520-4b5d-98e4-67ce28dbd023"
      },
      "execution_count": 1,
      "outputs": [
        {
          "output_type": "stream",
          "name": "stdout",
          "text": [
            "Ingrese primer valor3\n",
            "ingrese segundo valor2\n",
            "ingrese tercer valor4\n",
            "ingrese cuarto valor5\n",
            "La suma de los dos primeros valores es:\n",
            "5\n",
            "El producto del tercero y el cuarto valor es:\n",
            "20\n"
          ]
        }
      ]
    },
    {
      "cell_type": "markdown",
      "source": [
        "### Realizar un programa que lea cuatro valores numéricos e informar su suma y promedio."
      ],
      "metadata": {
        "id": "eFxViD4jnAdy"
      }
    },
    {
      "cell_type": "code",
      "source": [
        "num1 = int(input(\"Ingrese primer valor\"))\n",
        "num2 = int(input(\"ingrese segundo valor\"))\n",
        "num3 = int(input(\"ingrese tercer valor\"))\n",
        "num4 = int(input(\"ingrese cuarto valor\"))\n",
        "suma = num1 + num2 + num3 + num4\n",
        "promedio = suma/4\n",
        "print(\"La suma de los cuatro valores es:\")\n",
        "print(suma)\n",
        "print(\"El promedio de los cuatro valores es:\")\n",
        "print(promedio)"
      ],
      "metadata": {
        "colab": {
          "base_uri": "https://localhost:8080/"
        },
        "id": "9xzUBa1snMAT",
        "outputId": "3d7fcb43-6e01-497d-d56c-5ba58fb3c5eb"
      },
      "execution_count": 2,
      "outputs": [
        {
          "output_type": "stream",
          "name": "stdout",
          "text": [
            "Ingrese primer valor5\n",
            "ingrese segundo valor5\n",
            "ingrese tercer valor5\n",
            "ingrese cuarto valor5\n",
            "La suma de los cuatro valores es:\n",
            "20\n",
            "El promedio de los cuatro valores es:\n",
            "5.0\n"
          ]
        }
      ]
    },
    {
      "cell_type": "markdown",
      "source": [],
      "metadata": {
        "id": "yi7z68Qinm9o"
      }
    },
    {
      "cell_type": "markdown",
      "source": [
        "Calcular el sueldo mensual de un operario conociendo la cantidad de horas trabajadas y el valor por hora.\n",
        "\n",
        "\n"
      ],
      "metadata": {
        "id": "3hYwZVrMoBno"
      }
    },
    {
      "cell_type": "code",
      "source": [
        "horas_trabajadas = int(input(\"Ingrese horas trabajadas:\"))\n",
        "valor_horas = int(input(\"Ingrese cuanto se le paga por hora:\"))\n",
        "sueldo = horas_trabajadas * valor_horas\n",
        "print(\"el sueldo a pagar es\")\n",
        "print(sueldo)\n"
      ],
      "metadata": {
        "colab": {
          "base_uri": "https://localhost:8080/"
        },
        "id": "0ygLVFQLoKz5",
        "outputId": "ade8ea98-48ac-478e-fe99-bd523a6e576a"
      },
      "execution_count": 4,
      "outputs": [
        {
          "output_type": "stream",
          "name": "stdout",
          "text": [
            "Ingrese horas trabajadas:38\n",
            "Ingrese cuanto se le paga por hora:8\n",
            "el sueldo a pagar es\n",
            "304\n"
          ]
        }
      ]
    },
    {
      "cell_type": "markdown",
      "source": [
        "Siempre se hace la carga del sueldo, pero si el sueldo que ingresamos supera 3000 dolares se mostrará por pantalla el mensaje \"Esta persona debe abonar impuestos\", en caso que la persona cobre 3000 o menos no aparece nada por pantalla.\n",
        "\n"
      ],
      "metadata": {
        "id": "1x8gPIuqqxQq"
      }
    },
    {
      "cell_type": "code",
      "source": [
        "sueldo = int(input(\"Ingrese cual es su sueldo:\"))\n",
        "if sueldo > 3000:\n",
        "  print(\"Esta persona debe abonar impuestos\")\n"
      ],
      "metadata": {
        "colab": {
          "base_uri": "https://localhost:8080/"
        },
        "id": "4Zpi43-ZrBpo",
        "outputId": "acf8e672-4d83-49c5-beca-3c19fc996744"
      },
      "execution_count": 8,
      "outputs": [
        {
          "name": "stdout",
          "output_type": "stream",
          "text": [
            "Ingrese cual es su sueldo:900\n"
          ]
        }
      ]
    },
    {
      "cell_type": "markdown",
      "source": [
        "Estamos en presencia de una ESTRUCTURA CONDICIONAL COMPUESTA ya que tenemos actividades por la rama del verdadero y del falso.\n",
        "\n"
      ],
      "metadata": {
        "id": "piGjB5VCtMMj"
      }
    },
    {
      "cell_type": "code",
      "source": [
        "num1 = int(input(\"Ingrese primer valor\"))\n",
        "num2 = int(input(\"ingrese segundo valor\"))\n",
        "print(\"El valor mayor es\")\n",
        "if num1 > num2:\n",
        "  print(num1)\n",
        "else:\n",
        "  print(num2)"
      ],
      "metadata": {
        "colab": {
          "base_uri": "https://localhost:8080/"
        },
        "id": "tun-3LottNrO",
        "outputId": "0470ee3b-f587-4bee-9c67-bc7e7ae3ae21"
      },
      "execution_count": 10,
      "outputs": [
        {
          "output_type": "stream",
          "name": "stdout",
          "text": [
            "Ingrese primer valor10\n",
            "ingrese segundo valor4\n",
            "El valor mayor es\n",
            "10\n"
          ]
        }
      ]
    },
    {
      "cell_type": "code",
      "source": [],
      "metadata": {
        "id": "N26mWR0gtRHC"
      },
      "execution_count": null,
      "outputs": []
    },
    {
      "cell_type": "markdown",
      "source": [
        "Realizar un programa que solicite la carga por teclado de dos números, si el primero es mayor al segundo informar su suma y diferencia, en caso contrario informar el producto y la división del primero respecto al segundo."
      ],
      "metadata": {
        "id": "0MomJ-ztwd5k"
      }
    },
    {
      "cell_type": "code",
      "source": [
        "from __future__ import division\n",
        "num1 = int(input())\n",
        "num2 = int(input())\n",
        "if num1 > num2:\n",
        "  suma = num1 + num2\n",
        "  diferencia = num1 - num2\n",
        "  print(\"La suma es:\")\n",
        "  print(suma)\n",
        "  print(\"La diferencia es:\")\n",
        "  print(diferencia)\n",
        "else:\n",
        "  producto = num1 * num2\n",
        "  division = num1 / num2\n",
        "  print(\"El producto de los dos valores es:\")\n",
        "  print(producto)\n",
        "  print(\"La division del primero respecto al segundo es:\")\n",
        "  print(division)"
      ],
      "metadata": {
        "colab": {
          "base_uri": "https://localhost:8080/"
        },
        "id": "zPrEoLwWwfa9",
        "outputId": "5ce15758-a7e5-4169-bb22-6008f72ca6d3"
      },
      "execution_count": 13,
      "outputs": [
        {
          "output_type": "stream",
          "name": "stdout",
          "text": [
            "5\n",
            "10\n",
            "El producto de los dos valores es:\n",
            "50\n",
            "La division del primero respecto al segundo es:\n",
            "0.5\n"
          ]
        }
      ]
    }
  ]
}